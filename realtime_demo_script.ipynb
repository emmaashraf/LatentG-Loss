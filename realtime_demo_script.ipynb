{
 "cells": [
  {
   "cell_type": "code",
   "execution_count": null,
   "id": "c30ed609",
   "metadata": {},
   "outputs": [
    {
     "name": "stdout",
     "output_type": "stream",
     "text": [
      "(5, 300)\n"
     ]
    }
   ],
   "source": [
    "from copy import deepcopy\n",
    "import torch \n",
    "import torch.nn as nn\n",
    "import pandas as pd\n",
    "import plotly.express as px\n",
    "import plotly.graph_objects as go\n",
    "import re\n",
    "import string\n",
    "import nltk\n",
    "from torch import optim\n",
    "from nltk.corpus import stopwords\n",
    "from nltk.tokenize import word_tokenize\n",
    "from sklearn.model_selection import train_test_split, GridSearchCV\n",
    "from sklearn.feature_extraction.text import TfidfVectorizer\n",
    "from sklearn.linear_model import LogisticRegression\n",
    "from sklearn.metrics import confusion_matrix, classification_report, accuracy_score, precision_score, recall_score, f1_score\n",
    "import plotly.figure_factory as ff\n",
    "from textblob import TextBlob\n",
    "import numpy as np\n",
    "from tqdm import tqdm\n",
    "from wordcloud import WordCloud\n",
    "import matplotlib.pyplot as plt\n",
    "from scipy.sparse import load_npz\n",
    "from torch.utils.data import Dataset, DataLoader\n",
    "from TextDataset import TextDataset\n",
    "from DualArchitecture import DualTextCNN\n",
    "import gensim.downloader as api\n",
    "\n",
    "def get_sentence_embedding(sentence):\n",
    "    words = sentence.split()\n",
    "    word_embeddings = [embedding_model[word] for word in words if word in embedding_model]\n",
    "    if len(word_embeddings) == 0:\n",
    "        return np.zeros(embedding_model.vector_size)\n",
    "    return np.mean(word_embeddings, axis=0)\n",
    "\n",
    "\n",
    "BEST_MODEL_SAVE_PATH = \"C:/Users/Korhan/Desktop/workspace/vsCodeWorkspace/Python_Workspace/mental_health_sentiment_analysis/latentG_loss_best_dualtextcnnModel.pt\"\n",
    "torch.cuda.empty_cache()\n",
    "torch.manual_seed(42)\n",
    "torch.cuda.manual_seed(42)\n",
    "DEVICE = \"cuda\" if torch.cuda.is_available() else \"cpu\"\n",
    "\n",
    "texts = []\n",
    "\n",
    "text1 = \"first posted back years pandemic later years old tbh still struggling lot lash anymore self harm really abuse alcohol drugs various things feel something like used emotional wreck back emotionless one sometimes overwhelming always constant feelings loneliness never left feel nowadays even though used fucked shit still felt something whether pain sadness whole range emotions feel empty decided change life take path inevitably leading suicide sure think id today insecurities alone one cares whether family friends grown massively point sorta accepted going post wrote back said afraid eventually pushing everyone away afraid gunna leave people know see better longer guy would get black drunk end hurting ones around tbh sorted issues better hiding even better want die trust know never want go back want feel like thing idea back start clear issues could deal better eg abuse alcohol every opportunity different issues painful make sad know head real honestly even know anymore think pretty good picking things coupled fucked thoughts head create scenarios illusions gets harder harder tell real ultimately guess much pain hurt automatically accepted alone one truly cares end suffering sucks lot sometimes wonder life better back fucked unstable care loves whatever plan living much longer actually successfully killed none would matter suicide option like want feel better feel loved see light end tunnel empty lonely darkness lost soul\"\n",
    "# Personality disorder\n",
    "\n",
    "text2 = \"trouble sleeping, confused mind, restless heart. all out of tune\" \n",
    "# Anxiety\n",
    "\n",
    "text3 = \"thought wanting exist much denial spoken others desire stop existing know also make joke occasion yet vent like annoying people around pushing away want hear problem want happy strong pillar always listens need way around spoilered nsfw one triggering two like le people see profile vented one aspect thought shared space channel triggering topic think want new outlet like relying reddit anything putting sensitive information good chance deleting post later feel like might triggering keep thinking sensory deprivation void dark grey stimulus without need sustenance start fade brain activity would shut sort isolation keep wanting offending sound smell need eat bodily function pain going without pain brain suffering ill effect current lifestyle interesting artistic vision see much share possibly triggering artistic vision interesting viewed lens say le concerned making sense anymore used put much effort syntax came across sick trying hard people good rambling writing style using lately tired putting effort say thing ashamed weird people good alright suffering bad issue go away sometimes hard time keeping appearance ashamed much neurotic shared okay okay accepting going allow feel hate emotion like usual okay\"\n",
    "# Stress\n",
    "\n",
    "text4 = \"oh no im restless the time will come i walk with jesus. then my heart is calm every time i sing a song i dont know tomorrow in this section i always want to cry because i sing it but i dont do it sorry god i worry too much ️\"\n",
    "# Stress\n",
    "\n",
    "text5 = \"life is too hard to bare i cant take it anymore.\"\n",
    "# Suicidal\n",
    "\n",
    "texts.append(text1)\n",
    "texts.append(text2)\n",
    "texts.append(text3)\n",
    "texts.append(text4)\n",
    "texts.append(text5)\n",
    "\n",
    "\n",
    "id2label = {\n",
    "    0: \"Anxiety\", \n",
    "    1: \"Depression\", \n",
    "    2: \"Stress\", \n",
    "    3: \"Suicidal\",\n",
    "    4: \"Normal\",\n",
    "    5: \"Bipolar\",\n",
    "    6: \"Personality disorder\",\n",
    "}\n",
    "label2id = {v: k for k, v in id2label.items()} \n",
    "\n",
    "\n",
    "embedding_model = api.load(\"word2vec-google-news-300\")\n",
    "embeddings = np.array([get_sentence_embedding(sentence) for sentence in texts])\n",
    "print(embeddings.shape)"
   ]
  },
  {
   "cell_type": "code",
   "execution_count": 2,
   "id": "abf46b4d",
   "metadata": {},
   "outputs": [],
   "source": [
    "X_tensor = torch.tensor(embeddings).float().unsqueeze(1).to(\"cuda\")"
   ]
  },
  {
   "cell_type": "code",
   "execution_count": 3,
   "id": "98ebcdd7",
   "metadata": {},
   "outputs": [
    {
     "data": {
      "text/plain": [
       "<All keys matched successfully>"
      ]
     },
     "execution_count": 3,
     "metadata": {},
     "output_type": "execute_result"
    }
   ],
   "source": [
    "model = DualTextCNN(input_dim=300, num_classes=7, latent_dim=32).to(DEVICE)\n",
    "model.load_state_dict(torch.load(BEST_MODEL_SAVE_PATH, map_location=torch.device(DEVICE)))"
   ]
  },
  {
   "cell_type": "code",
   "execution_count": 4,
   "id": "aee583e0",
   "metadata": {},
   "outputs": [
    {
     "name": "stdout",
     "output_type": "stream",
     "text": [
      "Predicted ids :  [6 0 2 2 3]\n",
      "Predicted class labels:  ['Personality disorder', 'Anxiety', 'Stress', 'Stress', 'Suicidal']\n"
     ]
    }
   ],
   "source": [
    "model.eval()\n",
    "with torch.no_grad():\n",
    "    y_pred, _, _ = model(X_tensor)\n",
    "    predicted_ids = torch.argmax(y_pred, dim=1)\n",
    "    predicted_labels = [id2label[id.item()] for id in predicted_ids]\n",
    "    print(\"Predicted ids : \", predicted_ids.cpu().numpy())\n",
    "    print(\"Predicted class labels: \", predicted_labels)"
   ]
  },
  {
   "cell_type": "code",
   "execution_count": null,
   "id": "b0f9d5c0",
   "metadata": {},
   "outputs": [],
   "source": [
    "# \"Personality Disorder\",\n",
    "# \"Anxiety\",\n",
    "# \"Stress\", or \"Depression\"\n",
    "# \"Stress\",\n",
    "# \"Suicidal\","
   ]
  }
 ],
 "metadata": {
  "kernelspec": {
   "display_name": "torch_generic_env",
   "language": "python",
   "name": "python3"
  },
  "language_info": {
   "codemirror_mode": {
    "name": "ipython",
    "version": 3
   },
   "file_extension": ".py",
   "mimetype": "text/x-python",
   "name": "python",
   "nbconvert_exporter": "python",
   "pygments_lexer": "ipython3",
   "version": "3.11.10"
  }
 },
 "nbformat": 4,
 "nbformat_minor": 5
}
