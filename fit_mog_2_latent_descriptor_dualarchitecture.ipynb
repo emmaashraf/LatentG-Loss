{
 "cells": [
  {
   "cell_type": "code",
   "execution_count": 2,
   "metadata": {},
   "outputs": [],
   "source": [
    "import numpy as np\n",
    "from sklearn.mixture import GaussianMixture\n",
    "import matplotlib.pyplot as plt\n",
    "from sklearn.preprocessing import StandardScaler\n",
    "import torch \n",
    "import torch.nn as nn "
   ]
  },
  {
   "cell_type": "code",
   "execution_count": 3,
   "metadata": {},
   "outputs": [
    {
     "data": {
      "text/plain": [
       "<All keys matched successfully>"
      ]
     },
     "execution_count": 3,
     "metadata": {},
     "output_type": "execute_result"
    }
   ],
   "source": [
    "from DualArchitecture import DualTextCNN\n",
    "DEVICE = \"cuda\" if torch.cuda.is_available() else \"cpu\"\n",
    "MODEL_SAVE_PATH = \"C:/Users/Korhan/Desktop/workspace/vsCodeWorkspace/Python_Workspace/mental_health_sentiment_analysis/best_newdualtextcnnModel.pt\"\n",
    "\n",
    "model = DualTextCNN(input_dim=300, num_classes=7, latent_dim=32).to(device=DEVICE)\n",
    "model.load_state_dict(torch.load(MODEL_SAVE_PATH, map_location=torch.device(DEVICE)))"
   ]
  },
  {
   "cell_type": "code",
   "execution_count": 4,
   "metadata": {},
   "outputs": [],
   "source": [
    "from TextDataset import TextDataset\n",
    "from torch.utils.data import Dataset, DataLoader\n",
    "BATCH_SIZE = 16\n",
    "\n",
    "X_train_embeddings = np.load(\"X_train_embeddings.npy\")\n",
    "y_train_encoded = np.load(\"y_train_encoded.npy\")\n",
    "X_test_embeddings = np.load(\"X_test_embeddings.npy\")\n",
    "y_test_encoded = np.load(\"y_test_encoded.npy\")\n",
    "\n",
    "X_train_embeddings = np.array(X_train_embeddings)\n",
    "X_test_embeddings = np.array(X_test_embeddings)\n",
    "\n",
    "y_train_encoded = np.array(y_train_encoded)\n",
    "y_test_encoded = np.array(y_test_encoded)\n",
    "\n",
    "y_train_encoded = np.reshape(y_train_encoded, (-1,))\n",
    "y_test_encoded = np.reshape(y_test_encoded, (-1,))\n",
    "\n",
    "\n",
    "train_dataset = TextDataset(X_train_embeddings, y_train_encoded)\n",
    "test_dataset = TextDataset(X_test_embeddings, y_test_encoded)\n",
    "\n",
    "train_dataloader = DataLoader(train_dataset, batch_size=BATCH_SIZE, shuffle=False)\n",
    "test_dataloader = DataLoader(test_dataset, batch_size=BATCH_SIZE, shuffle=False)"
   ]
  },
  {
   "cell_type": "code",
   "execution_count": 5,
   "metadata": {},
   "outputs": [],
   "source": [
    "model.eval()\n",
    "latent_embeddings = []\n",
    "pred_logits = []\n",
    "with torch.no_grad():\n",
    "    for X, y in train_dataloader:\n",
    "        X, y = X.to(DEVICE).unsqueeze(1), y.to(DEVICE).squeeze(1)\n",
    "        y_pred, rec_pred ,latent_embedding_batch = model(X)\n",
    "        pred_logits.append(y_pred)\n",
    "        latent_embeddings.append(latent_embedding_batch)"
   ]
  },
  {
   "cell_type": "code",
   "execution_count": 6,
   "metadata": {},
   "outputs": [
    {
     "name": "stdout",
     "output_type": "stream",
     "text": [
      "Final latent embeddings shape: torch.Size([84868, 32])\n",
      "Final pred logits shape: torch.Size([84868, 7])\n"
     ]
    }
   ],
   "source": [
    "latent_embeddings = torch.cat(latent_embeddings, dim=0)\n",
    "pred_logits = torch.cat(pred_logits, dim=0)\n",
    "print(\"Final latent embeddings shape:\", latent_embeddings.shape)\n",
    "print(\"Final pred logits shape:\", pred_logits.shape)"
   ]
  },
  {
   "cell_type": "code",
   "execution_count": 7,
   "metadata": {},
   "outputs": [],
   "source": [
    "np.save(\"latent_embeddings_from_dual_architecture.npy\", latent_embeddings.cpu().numpy())"
   ]
  },
  {
   "cell_type": "code",
   "execution_count": 8,
   "metadata": {},
   "outputs": [
    {
     "name": "stdout",
     "output_type": "stream",
     "text": [
      "Combined Features shape :  torch.Size([84868, 39])\n"
     ]
    }
   ],
   "source": [
    "combined_features = torch.cat( (latent_embeddings, pred_logits) , dim=-1)\n",
    "\n",
    "print(\"Combined Features shape : \", combined_features.shape)"
   ]
  },
  {
   "cell_type": "code",
   "execution_count": 9,
   "metadata": {},
   "outputs": [],
   "source": [
    "combined_features_np = combined_features.detach().cpu().numpy()"
   ]
  },
  {
   "cell_type": "code",
   "execution_count": 10,
   "metadata": {},
   "outputs": [
    {
     "name": "stdout",
     "output_type": "stream",
     "text": [
      "Best Model:  GaussianMixture(max_iter=500, n_components=7)\n",
      "Gaussian Means Shape: (7, 32)\n",
      "Covariances Shape: (7, 32, 32)\n"
     ]
    }
   ],
   "source": [
    "from sklearn.mixture import GaussianMixture\n",
    "\n",
    "latent_embeddings_np = latent_embeddings.cpu().numpy()\n",
    "\n",
    "num_components = 7\n",
    "\n",
    "from sklearn.model_selection import GridSearchCV\n",
    "from sklearn.mixture import GaussianMixture\n",
    "\n",
    "param_grid = {\n",
    "    'n_components': [5, 6, 7],\n",
    "    'covariance_type': ['full', 'tied', 'diag', 'spherical'],\n",
    "    'max_iter': [100, 200, 500],\n",
    "}\n",
    "\n",
    "gmm = GaussianMixture()\n",
    "grid_search = GridSearchCV(gmm, param_grid, cv=3, n_jobs=-1)\n",
    "grid_search.fit(latent_embeddings_np)\n",
    "\n",
    "best_model = grid_search.best_estimator_\n",
    "print(\"Best Model: \", best_model)\n",
    "\n",
    "print(\"Gaussian Means Shape:\", best_model.means_.shape)\n",
    "print(\"Covariances Shape:\", best_model.covariances_.shape)"
   ]
  },
  {
   "cell_type": "code",
   "execution_count": 11,
   "metadata": {},
   "outputs": [],
   "source": [
    "true_labels = []\n",
    "with torch.no_grad():\n",
    "    for X, y in train_dataloader:\n",
    "        true_labels.append(y.cpu().numpy())\n",
    "        \n",
    "true_labels = np.concatenate(true_labels, axis=0)"
   ]
  },
  {
   "cell_type": "code",
   "execution_count": 12,
   "metadata": {},
   "outputs": [],
   "source": [
    "probs = best_model.predict_proba(latent_embeddings_np)\n",
    "assignments = np.argmax(probs, axis=1)"
   ]
  },
  {
   "cell_type": "code",
   "execution_count": 13,
   "metadata": {},
   "outputs": [
    {
     "name": "stdout",
     "output_type": "stream",
     "text": [
      "Gerçek Etiketler (İlk 10): [[2]\n",
      " [5]\n",
      " [6]\n",
      " [3]\n",
      " [3]]\n",
      "GMM Atamaları (İlk 10): [5 3 4 5 5]\n"
     ]
    }
   ],
   "source": [
    "print(\"Gerçek Etiketler (İlk 10):\", true_labels[:5])\n",
    "print(\"GMM Atamaları (İlk 10):\", assignments[:5])"
   ]
  },
  {
   "cell_type": "code",
   "execution_count": 14,
   "metadata": {},
   "outputs": [
    {
     "name": "stdout",
     "output_type": "stream",
     "text": [
      "Adjusted Rand Index (ARI): 0.2232536468592531\n"
     ]
    }
   ],
   "source": [
    "from sklearn.metrics import adjusted_rand_score\n",
    "\n",
    "ari_score = adjusted_rand_score(true_labels.squeeze(1), assignments)\n",
    "print(\"Adjusted Rand Index (ARI):\", ari_score)"
   ]
  },
  {
   "cell_type": "code",
   "execution_count": 15,
   "metadata": {},
   "outputs": [
    {
     "name": "stdout",
     "output_type": "stream",
     "text": [
      "Best Model:  GaussianMixture(n_components=7)\n",
      "Gaussian Means Shape: (7, 39)\n",
      "Covariances Shape: (7, 39, 39)\n"
     ]
    }
   ],
   "source": [
    "param_grid = {\n",
    "    'n_components': [5, 6, 7],\n",
    "    'covariance_type': ['full', 'tied', 'diag', 'spherical'],\n",
    "    'max_iter': [100, 200, 500],\n",
    "}\n",
    "\n",
    "gmm = GaussianMixture()\n",
    "grid_search = GridSearchCV(gmm, param_grid, cv=3, n_jobs=-1)\n",
    "grid_search.fit(combined_features_np)\n",
    "\n",
    "best_model = grid_search.best_estimator_\n",
    "print(\"Best Model: \", best_model)\n",
    "\n",
    "print(\"Gaussian Means Shape:\", best_model.means_.shape)\n",
    "print(\"Covariances Shape:\", best_model.covariances_.shape)"
   ]
  },
  {
   "cell_type": "code",
   "execution_count": 16,
   "metadata": {},
   "outputs": [],
   "source": [
    "probs = best_model.predict_proba(combined_features_np)\n",
    "assignments = np.argmax(probs, axis=1)"
   ]
  },
  {
   "cell_type": "code",
   "execution_count": 17,
   "metadata": {},
   "outputs": [
    {
     "name": "stdout",
     "output_type": "stream",
     "text": [
      "Gerçek Etiketler (İlk 10): [[2]\n",
      " [5]\n",
      " [6]\n",
      " [3]\n",
      " [3]]\n",
      "GMM Atamaları (İlk 10): [6 1 4 6 6]\n"
     ]
    }
   ],
   "source": [
    "print(\"Gerçek Etiketler (İlk 10):\", true_labels[:5])\n",
    "print(\"GMM Atamaları (İlk 10):\", assignments[:5])"
   ]
  },
  {
   "cell_type": "code",
   "execution_count": 18,
   "metadata": {},
   "outputs": [
    {
     "name": "stdout",
     "output_type": "stream",
     "text": [
      "Adjusted Rand Index (ARI): 0.36611007981781873\n"
     ]
    }
   ],
   "source": [
    "ari_score = adjusted_rand_score(true_labels.squeeze(1), assignments)\n",
    "print(\"Adjusted Rand Index (ARI):\", ari_score)"
   ]
  }
 ],
 "metadata": {
  "kernelspec": {
   "display_name": "torch_generic_env",
   "language": "python",
   "name": "python3"
  },
  "language_info": {
   "codemirror_mode": {
    "name": "ipython",
    "version": 3
   },
   "file_extension": ".py",
   "mimetype": "text/x-python",
   "name": "python",
   "nbconvert_exporter": "python",
   "pygments_lexer": "ipython3",
   "version": "3.11.10"
  }
 },
 "nbformat": 4,
 "nbformat_minor": 2
}
